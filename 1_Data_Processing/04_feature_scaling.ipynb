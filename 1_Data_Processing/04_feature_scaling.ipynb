{
 "cells": [
  {
   "cell_type": "code",
   "execution_count": null,
   "id": "0f4a05f7",
   "metadata": {},
   "outputs": [
    {
     "name": "stdout",
     "output_type": "stream",
     "text": [
      "Original Data:\n",
      " [[1.0e+02 1.0e-03 5.0e+01]\n",
      " [2.0e+02 3.0e-03 6.0e+01]\n",
      " [3.0e+02 2.0e-03 5.5e+01]\n",
      " [4.0e+02 5.0e-03 6.5e+01]]\n"
     ]
    }
   ],
   "source": [
    "import numpy as np\n",
    "\n",
    "data = np.array([\n",
    "    [100, 0.001, 50],\n",
    "    [200, 0.003, 60],\n",
    "    [300, 0.002, 55],\n",
    "    [400, 0.005, 65]\n",
    "    \n",
    "])\n",
    "\n",
    "print(\"Original Data:\\n\", data)\n"
   ]
  },
  {
   "cell_type": "code",
   "execution_count": 4,
   "id": "70c34798",
   "metadata": {},
   "outputs": [
    {
     "name": "stdout",
     "output_type": "stream",
     "text": [
      "\n",
      "Min-Max Scaled Data:\n",
      " [[0.         0.         0.        ]\n",
      " [0.33333333 0.5        0.66666667]\n",
      " [0.66666667 0.25       0.33333333]\n",
      " [1.         1.         1.        ]]\n"
     ]
    }
   ],
   "source": [
    "from sklearn.preprocessing import MinMaxScaler\n",
    "scaler=MinMaxScaler()\n",
    "scaled_data=scaler.fit_transform(data)\n",
    "print(\"\\nMin-Max Scaled Data:\\n\", scaled_data)\n"
   ]
  },
  {
   "cell_type": "code",
   "execution_count": 5,
   "id": "1b958b4d",
   "metadata": {},
   "outputs": [
    {
     "name": "stdout",
     "output_type": "stream",
     "text": [
      "\n",
      "Standardized Data:\n",
      " [[-1.34164079 -1.18321596 -1.34164079]\n",
      " [-0.4472136   0.16903085  0.4472136 ]\n",
      " [ 0.4472136  -0.50709255 -0.4472136 ]\n",
      " [ 1.34164079  1.52127766  1.34164079]]\n"
     ]
    }
   ],
   "source": [
    "from sklearn.preprocessing import StandardScaler\n",
    "scaler=StandardScaler()\n",
    "scaled_data=scaler.fit_transform(data)\n",
    "print(\"\\nStandardized Data:\\n\", scaled_data)\n"
   ]
  },
  {
   "cell_type": "code",
   "execution_count": 6,
   "id": "889c50f8",
   "metadata": {},
   "outputs": [
    {
     "name": "stdout",
     "output_type": "stream",
     "text": [
      "    Name  Age  Salary\n",
      "0    Tom   20   20000\n",
      "1   nick   21   25000\n",
      "2  krish   19   18000\n",
      "3   jack   18   15000\n"
     ]
    }
   ],
   "source": [
    "import pandas as pd \n",
    "\n",
    "exampleData={\n",
    "  'Name': ['Tom', 'nick', 'krish', 'jack'],\n",
    "    'Age': [20, 21, 19, 18],\n",
    "    'Salary': [20000, 25000, 18000, 15000],\n",
    "}\n",
    "\n",
    "df=pd.DataFrame(exampleData)\n",
    "print(df)"
   ]
  },
  {
   "cell_type": "code",
   "execution_count": 11,
   "id": "b9c29b9d",
   "metadata": {},
   "outputs": [
    {
     "name": "stdout",
     "output_type": "stream",
     "text": [
      "Original DataFrame:\n",
      "    Name  Age  Salary\n",
      "0   Tom   25   50000\n",
      "1  Nick   32   64000\n",
      "2  John   47  120000\n",
      "3  Anna   51   90000\n",
      "\n",
      "DataFrame after Min-Max scaling numeric columns:\n",
      "    Name       Age    Salary\n",
      "0   Tom  0.000000  0.000000\n",
      "1  Nick  0.269231  0.200000\n",
      "2  John  0.846154  1.000000\n",
      "3  Anna  1.000000  0.571429\n"
     ]
    }
   ],
   "source": [
    "import pandas as pd\n",
    "from sklearn.preprocessing import MinMaxScaler\n",
    "\n",
    "df = pd.DataFrame({\n",
    "    'Name': ['Tom', 'Nick', 'John', 'Anna'],\n",
    "    'Age': [25, 32, 47, 51],\n",
    "    'Salary': [50000, 64000, 120000, 90000]\n",
    "})\n",
    "\n",
    "print(\"Original DataFrame:\\n\", df)\n",
    "\n",
    "# Select only numeric columns\n",
    "numeric_cols = df.select_dtypes(include=['int64', 'float64']).columns\n",
    "\n",
    "scaler = MinMaxScaler()\n",
    "\n",
    "# Fit_transform only numeric columns\n",
    "df[numeric_cols] = scaler.fit_transform(df[numeric_cols])\n",
    "\n",
    "print(\"\\nDataFrame after Min-Max scaling numeric columns:\\n\", df)\n"
   ]
  },
  {
   "cell_type": "code",
   "execution_count": null,
   "id": "d4edda3a",
   "metadata": {},
   "outputs": [],
   "source": []
  }
 ],
 "metadata": {
  "kernelspec": {
   "display_name": "Python 3",
   "language": "python",
   "name": "python3"
  },
  "language_info": {
   "codemirror_mode": {
    "name": "ipython",
    "version": 3
   },
   "file_extension": ".py",
   "mimetype": "text/x-python",
   "name": "python",
   "nbconvert_exporter": "python",
   "pygments_lexer": "ipython3",
   "version": "3.10.11"
  }
 },
 "nbformat": 4,
 "nbformat_minor": 5
}
