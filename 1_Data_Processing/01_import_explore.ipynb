{
 "cells": [
  {
   "cell_type": "code",
   "execution_count": 2,
   "id": "f6593691",
   "metadata": {},
   "outputs": [
    {
     "name": "stdout",
     "output_type": "stream",
     "text": [
      "     Name            ID  Age  Dep  CGPA     Country       City\n",
      "0  Parvez  202322240326   23  CSE  4.28  Bangladesh      Dhaka\n",
      "1   Sajid  202322240327   24  CSE  4.25    Pakistan    Karachi\n",
      "2     Ali  202322240328   22  CSE  4.20       India      Delhi\n",
      "3  Hassan  202322240329   21  CSE  4.30       Nepal  Kathmandu\n"
     ]
    }
   ],
   "source": [
    "import pandas as pd \n",
    "import numpy as np\n",
    "import matplotlib.pyplot as plt \n",
    "import seaborn as sns\n",
    "data={\n",
    "    'Name':['Parvez','Sajid','Ali','Hassan'],\n",
    "    'ID':['202322240326','202322240327','202322240328','202322240329'],\n",
    "    'Age':[23,24,22,21],\n",
    "    'Dep':['CSE','CSE','CSE','CSE'],\n",
    "    'CGPA':[4.28,4.25,4.20,4.30],\n",
    "    'Country':['Bangladesh','Pakistan','India','Nepal'],\n",
    "    'City':['Dhaka','Karachi','Delhi','Kathmandu'],\n",
    "}\n",
    "\n",
    "df=pd.DataFrame(data)\n",
    "print(df)"
   ]
  },
  {
   "cell_type": "code",
   "execution_count": 18,
   "id": "48bab800",
   "metadata": {},
   "outputs": [],
   "source": [
    "import pandas as pd\n",
    "csv_data =pd.read_csv(r\"E:\\Machine Learning\\Machine-Learning\\DataFiles\\bank\\bank-full.csv\")"
   ]
  },
  {
   "cell_type": "code",
   "execution_count": 20,
   "id": "21e9cb49",
   "metadata": {},
   "outputs": [
    {
     "name": "stdout",
     "output_type": "stream",
     "text": [
      "  age;\"job\";\"marital\";\"education\";\"default\";\"balance\";\"housing\";\"loan\";\"contact\";\"day\";\"month\";\"duration\";\"campaign\";\"pdays\";\"previous\";\"poutcome\";\"y\"\n",
      "0  58;\"management\";\"married\";\"tertiary\";\"no\";2143...                                                                                                  \n",
      "1  44;\"technician\";\"single\";\"secondary\";\"no\";29;\"...                                                                                                  \n",
      "2  33;\"entrepreneur\";\"married\";\"secondary\";\"no\";2...                                                                                                  \n",
      "3  47;\"blue-collar\";\"married\";\"unknown\";\"no\";1506...                                                                                                  \n",
      "4  33;\"unknown\";\"single\";\"unknown\";\"no\";1;\"no\";\"n...                                                                                                  \n",
      "      age;\"job\";\"marital\";\"education\";\"default\";\"balance\";\"housing\";\"loan\";\"contact\";\"day\";\"month\";\"duration\";\"campaign\";\"pdays\";\"previous\";\"poutcome\";\"y\"\n",
      "45206  51;\"technician\";\"married\";\"tertiary\";\"no\";825;...                                                                                                  \n",
      "45207  71;\"retired\";\"divorced\";\"primary\";\"no\";1729;\"n...                                                                                                  \n",
      "45208  72;\"retired\";\"married\";\"secondary\";\"no\";5715;\"...                                                                                                  \n",
      "45209  57;\"blue-collar\";\"married\";\"secondary\";\"no\";66...                                                                                                  \n",
      "45210  37;\"entrepreneur\";\"married\";\"secondary\";\"no\";2...                                                                                                  \n",
      "(45211, 1)\n",
      "<class 'pandas.core.frame.DataFrame'>\n",
      "RangeIndex: 45211 entries, 0 to 45210\n",
      "Data columns (total 1 columns):\n",
      " #   Column                                                                                                                                                Non-Null Count  Dtype \n",
      "---  ------                                                                                                                                                --------------  ----- \n",
      " 0   age;\"job\";\"marital\";\"education\";\"default\";\"balance\";\"housing\";\"loan\";\"contact\";\"day\";\"month\";\"duration\";\"campaign\";\"pdays\";\"previous\";\"poutcome\";\"y\"  45211 non-null  object\n",
      "dtypes: object(1)\n",
      "memory usage: 353.3+ KB\n",
      "None\n",
      "       age;\"job\";\"marital\";\"education\";\"default\";\"balance\";\"housing\";\"loan\";\"contact\";\"day\";\"month\";\"duration\";\"campaign\";\"pdays\";\"previous\";\"poutcome\";\"y\"\n",
      "count                                               45211                                                                                                  \n",
      "unique                                              45211                                                                                                  \n",
      "top     58;\"management\";\"married\";\"tertiary\";\"no\";2143...                                                                                                  \n",
      "freq                                                    1                                                                                                  \n"
     ]
    }
   ],
   "source": [
    "print(csv_data.head())\n",
    "print(csv_data.tail())\n",
    "print(csv_data.shape)\n",
    "print(csv_data.info())\n",
    "print(csv_data.describe())"
   ]
  },
  {
   "cell_type": "code",
   "execution_count": 21,
   "id": "b37e67ce",
   "metadata": {},
   "outputs": [],
   "source": [
    "excel_data=pd.read_excel(r\"E:\\Machine Learning\\Machine-Learning\\DataFiles\\bankloan_cs.xlsx\")"
   ]
  },
  {
   "cell_type": "code",
   "execution_count": 23,
   "id": "06ba3235",
   "metadata": {},
   "outputs": [
    {
     "name": "stdout",
     "output_type": "stream",
     "text": [
      "   branch  ncust  customer  age                            ed  employ  \\\n",
      "0       3   3017     10012   28            High school degree       7   \n",
      "1       3   3017     10017   64     Post-undergraduate degree      34   \n",
      "2       3   3017     10030   40  Did not complete high school      20   \n",
      "3       3   3017     10039   30  Did not complete high school      11   \n",
      "4       3   3017     10069   25  Did not complete high school       2   \n",
      "\n",
      "   address  income  debtinc  creddebt    othdebt default  \n",
      "0        2      44     17.7  2.990592   4.797408      No  \n",
      "1       17     116     14.7  5.047392  12.004608      No  \n",
      "2       12      61      4.8  1.042368   1.885632      No  \n",
      "3        3      27     34.5  1.751220   7.563780      No  \n",
      "4        2      30     22.4  0.759360   5.960640     Yes  \n",
      "      branch  ncust  customer  age                            ed  employ  \\\n",
      "1495      91   3779    453471   34                  Some college       8   \n",
      "1496      91   3779    453578   37            High school degree      10   \n",
      "1497      91   3779    453686   25     Post-undergraduate degree       0   \n",
      "1498      91   3779    453698   34  Did not complete high school      10   \n",
      "1499      91   3779    453777   27  Did not complete high school       2   \n",
      "\n",
      "      address  income  debtinc  creddebt   othdebt default  \n",
      "1495        4      83     11.0  1.853390  7.276610      No  \n",
      "1496        8      43      3.6  0.806508  0.741492      No  \n",
      "1497        3      16      3.2  0.288256  0.223744      No  \n",
      "1498        8      41     14.5  1.194945  4.750055      No  \n",
      "1499        2      24      5.8  0.555408  0.836592      No  \n",
      "(1500, 12)\n",
      "<class 'pandas.core.frame.DataFrame'>\n",
      "RangeIndex: 1500 entries, 0 to 1499\n",
      "Data columns (total 12 columns):\n",
      " #   Column    Non-Null Count  Dtype  \n",
      "---  ------    --------------  -----  \n",
      " 0   branch    1500 non-null   int64  \n",
      " 1   ncust     1500 non-null   int64  \n",
      " 2   customer  1500 non-null   int64  \n",
      " 3   age       1500 non-null   int64  \n",
      " 4   ed        1500 non-null   object \n",
      " 5   employ    1500 non-null   int64  \n",
      " 6   address   1500 non-null   int64  \n",
      " 7   income    1500 non-null   int64  \n",
      " 8   debtinc   1500 non-null   float64\n",
      " 9   creddebt  1500 non-null   float64\n",
      " 10  othdebt   1500 non-null   float64\n",
      " 11  default   1500 non-null   object \n",
      "dtypes: float64(3), int64(7), object(2)\n",
      "memory usage: 140.8+ KB\n",
      "None\n",
      "            branch        ncust       customer          age       employ  \\\n",
      "count  1500.000000  1500.000000    1500.000000  1500.000000  1500.000000   \n",
      "mean     52.200000  3478.066667  257714.548000    34.174000     6.952000   \n",
      "std      27.928719   864.710980  139555.147719    13.142306     8.977644   \n",
      "min       3.000000  1919.000000   10012.000000    18.000000     0.000000   \n",
      "25%      20.000000  2658.000000   98638.750000    24.000000     0.000000   \n",
      "50%      64.000000  3491.000000  315991.500000    31.000000     4.000000   \n",
      "75%      75.000000  4358.000000  370701.500000    42.000000    10.000000   \n",
      "max      91.000000  4809.000000  453777.000000    79.000000    63.000000   \n",
      "\n",
      "           address       income      debtinc     creddebt      othdebt  \n",
      "count  1500.000000  1500.000000  1500.000000  1500.000000  1500.000000  \n",
      "mean      6.305333    59.588667     9.929333     1.934922     3.844308  \n",
      "std       6.047740    67.130160     6.671884     2.973989     5.333428  \n",
      "min       0.000000    12.000000     0.000000     0.000000     0.000000  \n",
      "25%       2.000000    27.000000     4.800000     0.423225     1.106986  \n",
      "50%       5.000000    40.000000     8.500000     0.986076     2.214072  \n",
      "75%       9.000000    64.000000    13.525000     2.202150     4.573312  \n",
      "max      34.000000  1079.000000    40.700000    35.972690    63.472640  \n"
     ]
    }
   ],
   "source": [
    "print(excel_data.head())\n",
    "print(excel_data.tail())\n",
    "print(excel_data.shape)\n",
    "print(excel_data.info())\n",
    "print(excel_data.describe())"
   ]
  },
  {
   "cell_type": "code",
   "execution_count": 28,
   "id": "b5750da4",
   "metadata": {},
   "outputs": [
    {
     "name": "stdout",
     "output_type": "stream",
     "text": [
      "                                                        feed\n",
      "title                                              Top Songs\n",
      "id         https://rss.itunes.apple.com/api/v1/th/apple-m...\n",
      "author     {'name': 'iTunes Store', 'uri': 'http://wwww.a...\n",
      "links      [{'self': 'https://rss.itunes.apple.com/api/v1...\n",
      "copyright   Copyright © 2018 Apple Inc. All rights reserved.\n",
      "                                                        feed\n",
      "copyright   Copyright © 2018 Apple Inc. All rights reserved.\n",
      "country                                                   th\n",
      "icon                     http://itunes.apple.com/favicon.ico\n",
      "updated                        2019-07-11T01:45:44.000-07:00\n",
      "results    [{'artistName': 'Shawn Mendes & Camila Cabello...\n",
      "(9, 1)\n",
      "<class 'pandas.core.frame.DataFrame'>\n",
      "Index: 9 entries, title to results\n",
      "Data columns (total 1 columns):\n",
      " #   Column  Non-Null Count  Dtype \n",
      "---  ------  --------------  ----- \n",
      " 0   feed    9 non-null      object\n",
      "dtypes: object(1)\n",
      "memory usage: 144.0+ bytes\n",
      "None\n",
      "             feed\n",
      "count           9\n",
      "unique          9\n",
      "top     Top Songs\n",
      "freq            1\n"
     ]
    }
   ],
   "source": [
    "\n",
    "from pandas import json_normalize\n",
    "import json\n",
    "Json_data=pd.read_json(r\"E:\\Machine Learning\\Machine-Learning\\DataFiles\\apple_music_th.json\")\n",
    "print(Json_data.head())\n",
    "print(Json_data.tail())\n",
    "print(Json_data.shape)\n",
    "print(Json_data.info())\n",
    "print(Json_data.describe())"
   ]
  },
  {
   "cell_type": "code",
   "execution_count": 31,
   "id": "fe0a3335",
   "metadata": {},
   "outputs": [
    {
     "name": "stdout",
     "output_type": "stream",
     "text": [
      "Citation Request:\n",
      "\n",
      "  This dataset is public available for research. The details are described in [Moro et al., 2011]. \n",
      "\n",
      "  Please include this citation if you plan to use this database:\n",
      "\n",
      "\n",
      "\n",
      "  [Moro et al., 2011] S. Moro, R. Laureano and P. Cortez. Using Data Mining for Bank Direct Marketing: An Application of the CRISP-DM Methodology. \n",
      "\n"
     ]
    }
   ],
   "source": [
    "with open(r\"E:\\Machine Learning\\Machine-Learning\\DataFiles\\bank\\bank-names.txt\", \"r\") as file:\n",
    "    bank_names = file.readlines()\n",
    "for line in bank_names[:5]:\n",
    "    print(line)"
   ]
  },
  {
   "cell_type": "code",
   "execution_count": 35,
   "id": "53879bfb",
   "metadata": {},
   "outputs": [
    {
     "name": "stdout",
     "output_type": "stream",
     "text": [
      "Loaded E:\\Machine Learning\\Machine-Learning\\DataFiles\\bank\\bank.csv with 4521 rows\n"
     ]
    }
   ],
   "source": [
    "import os\n",
    "import glob\n",
    "\n",
    "files = glob.glob(r\"E:\\Machine Learning\\Machine-Learning\\DataFiles\\bank\\bank.csv\")\n",
    "for file in files:\n",
    "    df = pd.read_csv(file)\n",
    "    print(f\"Loaded {file} with {df.shape[0]} rows\")\n"
   ]
  },
  {
   "cell_type": "markdown",
   "id": "c1259e96",
   "metadata": {},
   "source": [
    "| File Type | Method                                | Why it matters                      |\n",
    "| --------- | ------------------------------------- | ----------------------------------- |\n",
    "| CSV       | `pd.read_csv()`                       | Most common for tabular data        |\n",
    "| Excel     | `pd.read_excel()`                     | Used in business/reporting          |\n",
    "| JSON      | `pd.read_json()` + `json_normalize()` | For APIs and nested data            |\n",
    "| SQL       | `pd.read_sql()`                       | For structured database access      |\n",
    "| Parquet   | `pd.read_parquet()`                   | Fast, compressed data for big tasks |\n",
    "| Text/Logs | `open()` or NLP libs                  | Raw data, logs, and NLP input       |\n"
   ]
  },
  {
   "cell_type": "markdown",
   "id": "ec65af3a",
   "metadata": {},
   "source": []
  }
 ],
 "metadata": {
  "kernelspec": {
   "display_name": "Python 3",
   "language": "python",
   "name": "python3"
  },
  "language_info": {
   "codemirror_mode": {
    "name": "ipython",
    "version": 3
   },
   "file_extension": ".py",
   "mimetype": "text/x-python",
   "name": "python",
   "nbconvert_exporter": "python",
   "pygments_lexer": "ipython3",
   "version": "3.10.11"
  }
 },
 "nbformat": 4,
 "nbformat_minor": 5
}
