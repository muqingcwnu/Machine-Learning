{
 "cells": [
  {
   "cell_type": "code",
   "execution_count": 17,
   "id": "f6593691",
   "metadata": {},
   "outputs": [
    {
     "name": "stdout",
     "output_type": "stream",
     "text": [
      "     Name            ID  Age  Dep  CGPA     Country       City\n",
      "0  Parvez  202322240326   23  CSE  4.28  Bangladesh      Dhaka\n",
      "1   Sajid  202322240327   24  CSE  4.25    Pakistan    Karachi\n",
      "2     Ali  202322240328   22  CSE  4.20       India      Delhi\n",
      "3  Hassan  202322240329   21  CSE  4.30       Nepal  Kathmandu\n"
     ]
    }
   ],
   "source": [
    "import pandas as pd \n",
    "import numpy as np\n",
    "import matplotlib.pyplot as plt \n",
    "import seaborn as sns\n",
    "data={\n",
    "    'Name':['Parvez','Sajid','Ali','Hassan'],\n",
    "    'ID':['202322240326','202322240327','202322240328','202322240329'],\n",
    "    'Age':[23,24,22,21],\n",
    "    'Dep':['CSE','CSE','CSE','CSE'],\n",
    "    'CGPA':[4.28,4.25,4.20,4.30],\n",
    "    'Country':['Bangladesh','Pakistan','India','Nepal'],\n",
    "    'City':['Dhaka','Karachi','Delhi','Kathmandu'],\n",
    "}\n",
    "\n",
    "df=pd.DataFrame(data)\n",
    "print(df)"
   ]
  },
  {
   "cell_type": "code",
   "execution_count": 19,
   "id": "9be630ab",
   "metadata": {},
   "outputs": [
    {
     "ename": "AttributeError",
     "evalue": "'NoneType' object has no attribute 'info'",
     "output_type": "error",
     "traceback": [
      "\u001b[1;31m---------------------------------------------------------------------------\u001b[0m",
      "\u001b[1;31mAttributeError\u001b[0m                            Traceback (most recent call last)",
      "Cell \u001b[1;32mIn[19], line 3\u001b[0m\n\u001b[0;32m      1\u001b[0m csv_df\u001b[38;5;241m=\u001b[39mdf\u001b[38;5;241m.\u001b[39mto_csv(\u001b[38;5;124mr\u001b[39m\u001b[38;5;124m\"\u001b[39m\u001b[38;5;124mE:\u001b[39m\u001b[38;5;124m\\\u001b[39m\u001b[38;5;124mMachine Learning\u001b[39m\u001b[38;5;124m\\\u001b[39m\u001b[38;5;124mMachine-Learning\u001b[39m\u001b[38;5;124m\\\u001b[39m\u001b[38;5;124mDatasets\u001b[39m\u001b[38;5;124m\\\u001b[39m\u001b[38;5;124mbigmart-sales-data\u001b[39m\u001b[38;5;124m\\\u001b[39m\u001b[38;5;124mTest.csv\u001b[39m\u001b[38;5;124m\"\u001b[39m)\n\u001b[1;32m----> 3\u001b[0m \u001b[38;5;28mprint\u001b[39m(\u001b[43mcsv_df\u001b[49m\u001b[38;5;241;43m.\u001b[39;49m\u001b[43minfo\u001b[49m())\n\u001b[0;32m      4\u001b[0m \u001b[38;5;28mprint\u001b[39m(csv_df\u001b[38;5;241m.\u001b[39mdescribe())\n",
      "\u001b[1;31mAttributeError\u001b[0m: 'NoneType' object has no attribute 'info'"
     ]
    }
   ],
   "source": [
    "csv_df=df.to_csv(r\"E:\\Machine Learning\\Machine-Learning\\Datasets\\bigmart-sales-data\\Test.csv\")\n",
    "\n",
    "print(csv_df.info())\n",
    "print(csv_df.describe())"
   ]
  },
  {
   "cell_type": "code",
   "execution_count": null,
   "id": "228e8fe9",
   "metadata": {},
   "outputs": [],
   "source": []
  }
 ],
 "metadata": {
  "kernelspec": {
   "display_name": "Python 3",
   "language": "python",
   "name": "python3"
  },
  "language_info": {
   "codemirror_mode": {
    "name": "ipython",
    "version": 3
   },
   "file_extension": ".py",
   "mimetype": "text/x-python",
   "name": "python",
   "nbconvert_exporter": "python",
   "pygments_lexer": "ipython3",
   "version": "3.10.11"
  }
 },
 "nbformat": 4,
 "nbformat_minor": 5
}
