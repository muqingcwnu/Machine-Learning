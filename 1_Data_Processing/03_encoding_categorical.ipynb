{
 "cells": [
  {
   "cell_type": "code",
   "execution_count": 1,
   "id": "7db9e693",
   "metadata": {},
   "outputs": [
    {
     "name": "stdout",
     "output_type": "stream",
     "text": [
      "   Color Size  Price\n",
      "0    Red    S   10.5\n",
      "1   Blue    M   12.0\n",
      "2  Green    L   14.0\n",
      "3   Blue    M   13.0\n",
      "4    Red    S   10.0\n"
     ]
    }
   ],
   "source": [
    "import pandas as pd\n",
    "\n",
    "df = pd.DataFrame({\n",
    "    'Color': ['Red', 'Blue', 'Green', 'Blue', 'Red'],\n",
    "    'Size': ['S', 'M', 'L', 'M', 'S'],\n",
    "    'Price': [10.5, 12.0, 14.0, 13.0, 10.0]\n",
    "})\n",
    "\n",
    "print(df)\n"
   ]
  },
  {
   "cell_type": "code",
   "execution_count": 2,
   "id": "51d83f35",
   "metadata": {},
   "outputs": [
    {
     "name": "stdout",
     "output_type": "stream",
     "text": [
      "   Color Size  Price  Size_Label\n",
      "0    Red    S   10.5           0\n",
      "1   Blue    M   12.0           1\n",
      "2  Green    L   14.0           2\n",
      "3   Blue    M   13.0           1\n",
      "4    Red    S   10.0           0\n"
     ]
    }
   ],
   "source": [
    "from sklearn.preprocessing import LabelEncoder\n",
    "\n",
    "size_order = {'S': 0, 'M': 1, 'L': 2}\n",
    "df['Size_Label'] = df['Size'].map(size_order)\n",
    "\n",
    "print(df)\n"
   ]
  },
  {
   "cell_type": "code",
   "execution_count": 18,
   "id": "7748acd6",
   "metadata": {},
   "outputs": [
    {
     "name": "stdout",
     "output_type": "stream",
     "text": [
      "  Size  Price  Color_Green  Color_Red\n",
      "0    S   10.5        False       True\n",
      "1    M   12.0        False      False\n",
      "2    L   14.0         True      False\n",
      "3    M   13.0        False      False\n",
      "4    S   10.0        False       True\n"
     ]
    }
   ],
   "source": [
    "df_encoded = pd.get_dummies(df, columns=['Color'], drop_first=True)\n",
    "print(df_encoded)\n"
   ]
  },
  {
   "cell_type": "code",
   "execution_count": 22,
   "id": "9199d51c",
   "metadata": {},
   "outputs": [
    {
     "name": "stdout",
     "output_type": "stream",
     "text": [
      "   Color Size  Price  Size_Ordinal\n",
      "0    Red    S   10.5           0.0\n",
      "1   Blue    M   12.0           1.0\n",
      "2  Green    L   14.0           2.0\n",
      "3   Blue    M   13.0           1.0\n",
      "4    Red    S   10.0           0.0\n"
     ]
    }
   ],
   "source": [
    "from sklearn.preprocessing import OrdinalEncoder\n",
    "\n",
    "ordinal_encoder = OrdinalEncoder(categories=[['S', 'M', 'L']])\n",
    "df['Size_Ordinal'] = ordinal_encoder.fit_transform(df[['Size']])\n",
    "\n",
    "print(df)\n"
   ]
  },
  {
   "cell_type": "code",
   "execution_count": 2,
   "id": "4a4fb8f8",
   "metadata": {},
   "outputs": [],
   "source": [
    "import pandas as pd\n",
    "data_csv=pd.read_csv(r\"E:\\Machine Learning\\Machine-Learning\\DataFiles\\movie_data\\genres.csv\")"
   ]
  },
  {
   "cell_type": "code",
   "execution_count": 4,
   "id": "4d19b2c1",
   "metadata": {},
   "outputs": [
    {
     "name": "stdout",
     "output_type": "stream",
     "text": [
      "           id     genres\n",
      "0         862  Animation\n",
      "1         862     Comedy\n",
      "2         862     Family\n",
      "3        8844  Adventure\n",
      "4        8844    Fantasy\n",
      "...       ...        ...\n",
      "93522   67758     Action\n",
      "93523   67758      Drama\n",
      "93524   67758   Thriller\n",
      "93525  227506        NaN\n",
      "93526  461257        NaN\n",
      "\n",
      "[93527 rows x 2 columns]\n"
     ]
    }
   ],
   "source": [
    "print(data_csv)"
   ]
  },
  {
   "cell_type": "code",
   "execution_count": 5,
   "id": "08f0a00e",
   "metadata": {},
   "outputs": [
    {
     "name": "stdout",
     "output_type": "stream",
     "text": [
      "     id     genres\n",
      "0   862  Animation\n",
      "1   862     Comedy\n",
      "2   862     Family\n",
      "3  8844  Adventure\n",
      "4  8844    Fantasy\n"
     ]
    }
   ],
   "source": [
    "print(data_csv.head())"
   ]
  },
  {
   "cell_type": "code",
   "execution_count": 11,
   "id": "1afbdf82",
   "metadata": {},
   "outputs": [
    {
     "name": "stdout",
     "output_type": "stream",
     "text": [
      "     id     genres  Genre_Label\n",
      "0   862  Animation          0.0\n",
      "1   862     Comedy          1.0\n",
      "2   862     Family          NaN\n",
      "3  8844  Adventure          NaN\n",
      "4  8844    Fantasy          NaN\n"
     ]
    }
   ],
   "source": [
    "from sklearn.preprocessing import LabelEncoder\n",
    "le={'Animation':0,'Comedy':1,'Drama':2,'Action':3,'Horror':4}\n",
    "data_csv['Genre_Label']=data_csv['genres'].map(le)\n",
    "print(data_csv.head())"
   ]
  },
  {
   "cell_type": "code",
   "execution_count": 20,
   "id": "db980c11",
   "metadata": {},
   "outputs": [
    {
     "name": "stdout",
     "output_type": "stream",
     "text": [
      "     id  Genre_Label  genres_Adventure  genres_Animation  genres_Comedy  \\\n",
      "0   862          0.0             False              True          False   \n",
      "1   862          1.0             False             False           True   \n",
      "2   862          NaN             False             False          False   \n",
      "3  8844          NaN              True             False          False   \n",
      "4  8844          NaN             False             False          False   \n",
      "\n",
      "   genres_Crime  genres_Documentary  genres_Drama  genres_Family  \\\n",
      "0         False               False         False          False   \n",
      "1         False               False         False          False   \n",
      "2         False               False         False           True   \n",
      "3         False               False         False          False   \n",
      "4         False               False         False          False   \n",
      "\n",
      "   genres_Fantasy  ...  genres_History  genres_Horror  genres_Music  \\\n",
      "0           False  ...           False          False         False   \n",
      "1           False  ...           False          False         False   \n",
      "2           False  ...           False          False         False   \n",
      "3           False  ...           False          False         False   \n",
      "4            True  ...           False          False         False   \n",
      "\n",
      "   genres_Mystery  genres_Romance  genres_Science Fiction  genres_TV Movie  \\\n",
      "0           False           False                   False            False   \n",
      "1           False           False                   False            False   \n",
      "2           False           False                   False            False   \n",
      "3           False           False                   False            False   \n",
      "4           False           False                   False            False   \n",
      "\n",
      "   genres_Thriller  genres_War  genres_Western  \n",
      "0            False       False           False  \n",
      "1            False       False           False  \n",
      "2            False       False           False  \n",
      "3            False       False           False  \n",
      "4            False       False           False  \n",
      "\n",
      "[5 rows x 21 columns]\n"
     ]
    }
   ],
   "source": [
    "data_csv_encoded = pd.get_dummies(data_csv, columns=['genres'], drop_first=True)\n",
    "print(data_csv_encoded.head())"
   ]
  },
  {
   "cell_type": "code",
   "execution_count": 7,
   "id": "2269522d",
   "metadata": {},
   "outputs": [
    {
     "name": "stdout",
     "output_type": "stream",
     "text": [
      "     City\n",
      "0   Paris\n",
      "1  London\n",
      "2  Berlin\n",
      "3   Tokyo\n",
      "4   Paris\n",
      "   City_0  City_1  City_2\n",
      "0       0       0       1\n",
      "1       0       1       0\n",
      "2       0       1       1\n",
      "3       1       0       0\n",
      "4       0       0       1\n"
     ]
    }
   ],
   "source": [
    "import category_encoders as ce\n",
    "\n",
    "df = pd.DataFrame({'City': ['Paris', 'London', 'Berlin', 'Tokyo', 'Paris']})\n",
    "print(df)\n",
    "binary_encoder = ce.BinaryEncoder(cols=['City'])\n",
    "df_binary = binary_encoder.fit_transform(df)\n",
    "print(df_binary)\n"
   ]
  },
  {
   "cell_type": "code",
   "execution_count": 10,
   "id": "9c56a0e4",
   "metadata": {},
   "outputs": [
    {
     "name": "stdout",
     "output_type": "stream",
     "text": [
      "   Color Size  Price  Bought\n",
      "0    Red    S   10.5       1\n",
      "1   Blue    M   12.0       0\n",
      "2  Green    L   14.0       1\n",
      "3   Blue    M   13.0       0\n",
      "4    Red    S   10.0       1\n"
     ]
    }
   ],
   "source": [
    "import pandas as pd\n",
    "\n",
    "df = pd.DataFrame({\n",
    "    'Color': ['Red', 'Blue', 'Green', 'Blue', 'Red'],\n",
    "    'Size': ['S', 'M', 'L', 'M', 'S'],\n",
    "    'Price': [10.5, 12.0, 14.0, 13.0, 10.0],\n",
    "    'Bought': [1, 0, 1, 0, 1]  # target column for supervised encodings\n",
    "})\n",
    "\n",
    "print(df)\n"
   ]
  },
  {
   "cell_type": "code",
   "execution_count": 11,
   "id": "49d001ec",
   "metadata": {},
   "outputs": [
    {
     "name": "stdout",
     "output_type": "stream",
     "text": [
      "   Color Size  Price  Bought  Color_Target\n",
      "0    Red    S   10.5       1           1.0\n",
      "1   Blue    M   12.0       0           0.0\n",
      "2  Green    L   14.0       1           1.0\n",
      "3   Blue    M   13.0       0           0.0\n",
      "4    Red    S   10.0       1           1.0\n"
     ]
    }
   ],
   "source": [
    "mean_target = df.groupby('Color')['Bought'].mean().to_dict()\n",
    "df['Color_Target'] = df['Color'].map(mean_target)\n",
    "print(df)\n"
   ]
  },
  {
   "cell_type": "code",
   "execution_count": 12,
   "id": "f60024f2",
   "metadata": {},
   "outputs": [
    {
     "name": "stdout",
     "output_type": "stream",
     "text": [
      "   col_0  col_1  col_2  col_3 Size  Price  Bought  Color_Target\n",
      "0      0      0      0      1    S   10.5       1           1.0\n",
      "1      0      1      0      0    M   12.0       0           0.0\n",
      "2      0      1      0      0    L   14.0       1           1.0\n",
      "3      0      1      0      0    M   13.0       0           0.0\n",
      "4      0      0      0      1    S   10.0       1           1.0\n"
     ]
    }
   ],
   "source": [
    "import category_encoders as ce\n",
    "he = ce.HashingEncoder(cols=['Color'], n_components=4)\n",
    "df_hash = he.fit_transform(df)\n",
    "print(df_hash)\n"
   ]
  },
  {
   "cell_type": "code",
   "execution_count": null,
   "id": "35f60cb2",
   "metadata": {},
   "outputs": [],
   "source": []
  }
 ],
 "metadata": {
  "kernelspec": {
   "display_name": "Python 3",
   "language": "python",
   "name": "python3"
  },
  "language_info": {
   "codemirror_mode": {
    "name": "ipython",
    "version": 3
   },
   "file_extension": ".py",
   "mimetype": "text/x-python",
   "name": "python",
   "nbconvert_exporter": "python",
   "pygments_lexer": "ipython3",
   "version": "3.10.11"
  }
 },
 "nbformat": 4,
 "nbformat_minor": 5
}
